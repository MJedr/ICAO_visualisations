{
 "cells": [
  {
   "cell_type": "code",
   "execution_count": 3,
   "metadata": {},
   "outputs": [],
   "source": [
    "import sys\n",
    "import numpy as np\n",
    "import pandas as pd\n",
    "import matplotlib.pyplot as plt\n",
    "import seaborn as sns\n",
    "import glob\n",
    "import re\n",
    "import os\n",
    "from math import sin, cos, sqrt, atan2, radians"
   ]
  },
  {
   "cell_type": "code",
   "execution_count": 14,
   "metadata": {},
   "outputs": [],
   "source": [
    "def load_data(data_dir='.', detailed_data_folder='simple_avia_par'):\n",
    "    data_codes = (os.path.join(data_dir,'airport-codes.csv'))\n",
    "    data_country_cds = (os.path.join(data_dir,'country_codes.txt'))\n",
    "    airports = pd.read_csv(data_codes)\n",
    "    country = pd.read_csv(data_country_cds, sep=';')\n",
    "\n",
    "    path = (os.path.join(data_dir, detailed_data_folder))\n",
    "    all_files = glob.glob(path + \"/*.tsv\")\n",
    "\n",
    "    datasets = []\n",
    "    for f in all_files:\n",
    "        df = pd.read_csv(f, sep='\\t')\n",
    "        df['year'] = (int(f.split('_')[-1][:-4]))  # bierzemy ostatni element nazwy i pozbawiamy go z rozszerzenia\n",
    "        datasets.append(df)\n",
    "\n",
    "    frame = pd.concat(datasets, axis=0, ignore_index=True)\n",
    "\n",
    "    # czyszczenie danych - podział na osobne kolumny\n",
    "    # kolumna airport - departure\n",
    "    frame['airport_dep'] = frame.code_dep.str.split('_').str.get(1)\n",
    "\n",
    "    # kolumna z kodem iso dla lotniska odlotu\n",
    "    frame['iso_code_dep'] = frame.code_dep.str.split('_').str.get(0)\n",
    "\n",
    "    # kolumna airport_arr\n",
    "    frame['airport_arr'] = frame.code_arr.str.split('_').str.get(1)\n",
    "\n",
    "    # kolumna z kodem iso dla lotniska docelowego\n",
    "    frame['iso_code_arr'] = frame.code_arr.str.split('_').str.get(0)\n",
    "\n",
    "    # wyrzucenie zbędnych kolumn\n",
    "    frame = frame.drop(columns=['code_dep', 'code_arr'])\n",
    "    \n",
    "    frame.seats.replace(\":\", np.nan, inplace=True)\n",
    "\n",
    "    return airports, country, frame\n"
   ]
  },
  {
   "cell_type": "code",
   "execution_count": 170,
   "metadata": {},
   "outputs": [],
   "source": [
    "airports, country, frame = load_data()"
   ]
  },
  {
   "cell_type": "code",
   "execution_count": 20,
   "metadata": {},
   "outputs": [
    {
     "data": {
      "text/html": [
       "<div>\n",
       "<style scoped>\n",
       "    .dataframe tbody tr th:only-of-type {\n",
       "        vertical-align: middle;\n",
       "    }\n",
       "\n",
       "    .dataframe tbody tr th {\n",
       "        vertical-align: top;\n",
       "    }\n",
       "\n",
       "    .dataframe thead th {\n",
       "        text-align: right;\n",
       "    }\n",
       "</style>\n",
       "<table border=\"1\" class=\"dataframe\">\n",
       "  <thead>\n",
       "    <tr style=\"text-align: right;\">\n",
       "      <th></th>\n",
       "      <th>passengers</th>\n",
       "      <th>seats</th>\n",
       "      <th>year</th>\n",
       "      <th>airport_dep</th>\n",
       "      <th>iso_code_dep</th>\n",
       "      <th>airport_arr</th>\n",
       "      <th>iso_code_arr</th>\n",
       "    </tr>\n",
       "  </thead>\n",
       "  <tbody>\n",
       "    <tr>\n",
       "      <th>0</th>\n",
       "      <td>36.867</td>\n",
       "      <td>NaN</td>\n",
       "      <td>1993</td>\n",
       "      <td>LOWG</td>\n",
       "      <td>AT</td>\n",
       "      <td>LOWW</td>\n",
       "      <td>AT</td>\n",
       "    </tr>\n",
       "    <tr>\n",
       "      <th>1</th>\n",
       "      <td>16.713</td>\n",
       "      <td>NaN</td>\n",
       "      <td>1993</td>\n",
       "      <td>LOWG</td>\n",
       "      <td>AT</td>\n",
       "      <td>LSZH</td>\n",
       "      <td>CH</td>\n",
       "    </tr>\n",
       "    <tr>\n",
       "      <th>2</th>\n",
       "      <td>38.946</td>\n",
       "      <td>NaN</td>\n",
       "      <td>1993</td>\n",
       "      <td>LOWG</td>\n",
       "      <td>AT</td>\n",
       "      <td>EDDF</td>\n",
       "      <td>DE</td>\n",
       "    </tr>\n",
       "    <tr>\n",
       "      <th>3</th>\n",
       "      <td>10.834</td>\n",
       "      <td>NaN</td>\n",
       "      <td>1993</td>\n",
       "      <td>LOWG</td>\n",
       "      <td>AT</td>\n",
       "      <td>EDDM</td>\n",
       "      <td>DE</td>\n",
       "    </tr>\n",
       "    <tr>\n",
       "      <th>4</th>\n",
       "      <td>47.347</td>\n",
       "      <td>NaN</td>\n",
       "      <td>1993</td>\n",
       "      <td>LOWI</td>\n",
       "      <td>AT</td>\n",
       "      <td>LOWW</td>\n",
       "      <td>AT</td>\n",
       "    </tr>\n",
       "  </tbody>\n",
       "</table>\n",
       "</div>"
      ],
      "text/plain": [
       "   passengers seats  year airport_dep iso_code_dep airport_arr iso_code_arr\n",
       "0      36.867   NaN  1993        LOWG           AT        LOWW           AT\n",
       "1      16.713   NaN  1993        LOWG           AT        LSZH           CH\n",
       "2      38.946   NaN  1993        LOWG           AT        EDDF           DE\n",
       "3      10.834   NaN  1993        LOWG           AT        EDDM           DE\n",
       "4      47.347   NaN  1993        LOWI           AT        LOWW           AT"
      ]
     },
     "execution_count": 20,
     "metadata": {},
     "output_type": "execute_result"
    }
   ],
   "source": []
  },
  {
   "cell_type": "code",
   "execution_count": 190,
   "metadata": {},
   "outputs": [],
   "source": [
    "arrivals = frame[frame.iso_code_arr==\"AT\"].groupby(['year', 'airport_arr']).sum().unstack()\n",
    "departures = frame[frame.iso_code_dep==\"AT\"].groupby(['year', 'airport_dep']).sum().unstack()\n"
   ]
  },
  {
   "cell_type": "code",
   "execution_count": 195,
   "metadata": {},
   "outputs": [],
   "source": [
    "last_year_arrivals=arrivals.apply(lambda x: x[x.notnull()].values[-1]).rename(\"arrivals\")\n",
    "last_year_departures=departures.apply(lambda x: x[x.notnull()].values[-1]).rename(\"departures\")"
   ]
  },
  {
   "cell_type": "code",
   "execution_count": 255,
   "metadata": {},
   "outputs": [],
   "source": [
    "last_year_traffic = pd.concat([last_year_arrivals, last_year_departures],axis=1, join ='inner')"
   ]
  },
  {
   "cell_type": "code",
   "execution_count": 256,
   "metadata": {},
   "outputs": [
    {
     "data": {
      "text/html": [
       "<div>\n",
       "<style scoped>\n",
       "    .dataframe tbody tr th:only-of-type {\n",
       "        vertical-align: middle;\n",
       "    }\n",
       "\n",
       "    .dataframe tbody tr th {\n",
       "        vertical-align: top;\n",
       "    }\n",
       "\n",
       "    .dataframe thead th {\n",
       "        text-align: right;\n",
       "    }\n",
       "</style>\n",
       "<table border=\"1\" class=\"dataframe\">\n",
       "  <thead>\n",
       "    <tr style=\"text-align: right;\">\n",
       "      <th></th>\n",
       "      <th>variable</th>\n",
       "      <th>code</th>\n",
       "      <th>arrivals</th>\n",
       "      <th>departures</th>\n",
       "      <th>sum</th>\n",
       "    </tr>\n",
       "  </thead>\n",
       "  <tbody>\n",
       "    <tr>\n",
       "      <th>5</th>\n",
       "      <td>passengers</td>\n",
       "      <td>LOWW</td>\n",
       "      <td>8365.596</td>\n",
       "      <td>10130.440</td>\n",
       "      <td>18496.036</td>\n",
       "    </tr>\n",
       "    <tr>\n",
       "      <th>4</th>\n",
       "      <td>passengers</td>\n",
       "      <td>LOWS</td>\n",
       "      <td>579.507</td>\n",
       "      <td>758.966</td>\n",
       "      <td>1338.473</td>\n",
       "    </tr>\n",
       "    <tr>\n",
       "      <th>0</th>\n",
       "      <td>passengers</td>\n",
       "      <td>LOWG</td>\n",
       "      <td>292.749</td>\n",
       "      <td>427.378</td>\n",
       "      <td>720.127</td>\n",
       "    </tr>\n",
       "    <tr>\n",
       "      <th>1</th>\n",
       "      <td>passengers</td>\n",
       "      <td>LOWI</td>\n",
       "      <td>280.220</td>\n",
       "      <td>369.856</td>\n",
       "      <td>650.076</td>\n",
       "    </tr>\n",
       "    <tr>\n",
       "      <th>3</th>\n",
       "      <td>passengers</td>\n",
       "      <td>LOWL</td>\n",
       "      <td>91.763</td>\n",
       "      <td>219.114</td>\n",
       "      <td>310.877</td>\n",
       "    </tr>\n",
       "    <tr>\n",
       "      <th>2</th>\n",
       "      <td>passengers</td>\n",
       "      <td>LOWK</td>\n",
       "      <td>56.587</td>\n",
       "      <td>109.252</td>\n",
       "      <td>165.839</td>\n",
       "    </tr>\n",
       "  </tbody>\n",
       "</table>\n",
       "</div>"
      ],
      "text/plain": [
       "     variable  code  arrivals  departures        sum\n",
       "5  passengers  LOWW  8365.596   10130.440  18496.036\n",
       "4  passengers  LOWS   579.507     758.966   1338.473\n",
       "0  passengers  LOWG   292.749     427.378    720.127\n",
       "1  passengers  LOWI   280.220     369.856    650.076\n",
       "3  passengers  LOWL    91.763     219.114    310.877\n",
       "2  passengers  LOWK    56.587     109.252    165.839"
      ]
     },
     "execution_count": 256,
     "metadata": {},
     "output_type": "execute_result"
    }
   ],
   "source": [
    "last_year_traffic[\"sum\"] = last_year_traffic.sum(axis=1)\n",
    "last_year_traffic.index = df.index.set_names(['variable', 'code'])\n",
    "last_year_traffic=last_year_traffic.reset_index().sort_values(by=['sum'], ascending=False)\n",
    "last_year_traffic"
   ]
  },
  {
   "cell_type": "code",
   "execution_count": 254,
   "metadata": {},
   "outputs": [
    {
     "ename": "TypeError",
     "evalue": "'NoneType' object is not iterable",
     "output_type": "error",
     "traceback": [
      "\u001b[1;31m---------------------------------------------------------------------------\u001b[0m",
      "\u001b[1;31mTypeError\u001b[0m                                 Traceback (most recent call last)",
      "\u001b[1;32m<ipython-input-254-8047a9423ce5>\u001b[0m in \u001b[0;36m<module>\u001b[1;34m()\u001b[0m\n\u001b[1;32m----> 1\u001b[1;33m \u001b[0mlist\u001b[0m\u001b[1;33m(\u001b[0m\u001b[0mlast_year_traffic\u001b[0m\u001b[1;33m)\u001b[0m\u001b[1;33m\u001b[0m\u001b[0m\n\u001b[0m",
      "\u001b[1;31mTypeError\u001b[0m: 'NoneType' object is not iterable"
     ]
    }
   ],
   "source": [
    "list(last_year_traffic)"
   ]
  },
  {
   "cell_type": "code",
   "execution_count": 251,
   "metadata": {},
   "outputs": [
    {
     "data": {
      "image/png": "[encoded data removed]",
      "text/plain": [
       "<matplotlib.figure.Figure at 0x21eddbb83c8>"
      ]
     },
     "metadata": {},
     "output_type": "display_data"
    }
   ],
   "source": [
    "ax = sns.barplot(data=last_year_traffic, x=\"code\", y=\"sum\").set_title(\"Airports for {}\".format(\"AT\"))\n",
    "plt.xlabel(\"Airport ICAO code\")\n",
    "plt.ylabel(\"Passangers [thousands]\")\n",
    "plt.show()\n"
   ]
  }
 ],
 "metadata": {
  "kernelspec": {
   "display_name": "Python 3",
   "language": "python",
   "name": "python3"
  },
  "language_info": {
   "codemirror_mode": {
    "name": "ipython",
    "version": 3
   },
   "file_extension": ".py",
   "mimetype": "text/x-python",
   "name": "python",
   "nbconvert_exporter": "python",
   "pygments_lexer": "ipython3",
   "version": "3.6.3"
  }
 },
 "nbformat": 4,
 "nbformat_minor": 1
}
